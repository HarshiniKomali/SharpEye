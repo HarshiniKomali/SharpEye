{
  "nbformat": 4,
  "nbformat_minor": 0,
  "metadata": {
    "colab": {
      "provenance": []
    },
    "kernelspec": {
      "name": "python3",
      "display_name": "Python 3"
    },
    "language_info": {
      "name": "python"
    },
    "gpuClass": "standard"
  },
  "cells": [
    {
      "cell_type": "markdown",
      "source": [
        "# Chained MF for outfit recommendation\n",
        "The workflow will be as follows\n",
        "1. Convert all items into a scene.\n",
        "2. Pass the scene into a MF factorization that is inverted to output an item\n",
        "3. Request 3 items for each item"
      ],
      "metadata": {
        "id": "qwMaJqi_F9eb"
      }
    },
    {
      "cell_type": "markdown",
      "source": [
        "## Update the item to recommend"
      ],
      "metadata": {
        "id": "vrOgEeclC5l6"
      }
    },
    {
      "cell_type": "code",
      "source": [
        "#test shirt = d4ad28d585788409ab2774b3780b6ce9\n",
        "#\n",
        "source_item = \"d4ad28d585788409ab2774b3780b6ce9\""
      ],
      "metadata": {
        "id": "--v1HSHBC5Xm"
      },
      "execution_count": 16,
      "outputs": []
    },
    {
      "cell_type": "markdown",
      "source": [
        "## Prerequisite\n",
        "This is to create the dictionary that will convert a item into a scene"
      ],
      "metadata": {
        "id": "ks6C0UYrGm8O"
      }
    },
    {
      "cell_type": "code",
      "source": [
        "!pip install surprise"
      ],
      "metadata": {
        "colab": {
          "base_uri": "https://localhost:8080/"
        },
        "id": "fUOCuYZ1HNlE",
        "outputId": "a0c6a91d-4ceb-4ea9-f337-ca9f3055a59a"
      },
      "execution_count": 18,
      "outputs": [
        {
          "output_type": "stream",
          "name": "stdout",
          "text": [
            "Looking in indexes: https://pypi.org/simple, https://us-python.pkg.dev/colab-wheels/public/simple/\n",
            "Requirement already satisfied: surprise in /usr/local/lib/python3.7/dist-packages (0.1)\n",
            "Requirement already satisfied: scikit-surprise in /usr/local/lib/python3.7/dist-packages (from surprise) (1.1.1)\n",
            "Requirement already satisfied: joblib>=0.11 in /usr/local/lib/python3.7/dist-packages (from scikit-surprise->surprise) (1.2.0)\n",
            "Requirement already satisfied: six>=1.10.0 in /usr/local/lib/python3.7/dist-packages (from scikit-surprise->surprise) (1.15.0)\n",
            "Requirement already satisfied: scipy>=1.0.0 in /usr/local/lib/python3.7/dist-packages (from scikit-surprise->surprise) (1.7.3)\n",
            "Requirement already satisfied: numpy>=1.11.2 in /usr/local/lib/python3.7/dist-packages (from scikit-surprise->surprise) (1.21.6)\n"
          ]
        }
      ]
    },
    {
      "cell_type": "code",
      "source": [
        "import csv\n",
        "import copy\n",
        "\n",
        "with open('fashion.csv', 'r') as f:\n",
        "    \n",
        "    csv_reader = csv.DictReader(f)\n",
        "    list_of_items = list(csv_reader)\n",
        "\n",
        "scene_list = {}\n",
        "\n",
        "for item in list_of_items:\n",
        "    productID = item.get('ProductID') \n",
        "    \n",
        "    #if the product key exist\n",
        "    if productID in scene_list:\n",
        "        buffer = scene_list[productID]\n",
        "        buffer.append(item.get('SceneID').strip())\n",
        "\n",
        "    #if the product key is missing\n",
        "    else:\n",
        "        scene_list[productID] = [item.get('SceneID').strip()]\n",
        "\n",
        "master_scene_list = copy.deepcopy(scene_list)\n"
      ],
      "metadata": {
        "id": "u0ki4dF0Gt97"
      },
      "execution_count": 39,
      "outputs": []
    },
    {
      "cell_type": "code",
      "source": [
        "#sratch for testing delete afterwards!\n",
        "print(scene_list['0027e30879ce3d87f82f699f148bff7e'])\n"
      ],
      "metadata": {
        "id": "U5VwZEaKhmRT",
        "outputId": "b7131769-20df-47ec-8a9b-42d7319bb6cc",
        "colab": {
          "base_uri": "https://localhost:8080/"
        }
      },
      "execution_count": 20,
      "outputs": [
        {
          "output_type": "stream",
          "name": "stdout",
          "text": [
            "['cdab9160072dd1800038227960ff6467', '14f59334af4539132981b1324a731067', 'e7d32df9f45b691afc580808750f73ca', 'c0be585ed21b1a6c6dc9559ebe007ede', 'fa5292c6c728810f6bfee095a3824dbd', 'f0066146566567f146da71ff8ec650c9', '983a5160b1ba3ff7dbde7e636e4c4601']\n"
          ]
        }
      ]
    },
    {
      "cell_type": "code",
      "source": [
        "import pandas\n",
        "import surprise\n",
        "from surprise import Dataset, Reader\n",
        "from surprise.model_selection import cross_validate, GridSearchCV\n",
        "from tables.tests import test_suite\n",
        "from collections import defaultdict\n",
        "\n",
        "import numpy"
      ],
      "metadata": {
        "id": "KNS7khjyHfFz"
      },
      "execution_count": 21,
      "outputs": []
    },
    {
      "cell_type": "markdown",
      "source": [
        "## Loading the dataset into memory"
      ],
      "metadata": {
        "id": "p-xe01ipHOAL"
      }
    },
    {
      "cell_type": "code",
      "source": [
        "#import the data\n",
        "raw_core = pandas.read_csv('fashion.csv')\n",
        "\n",
        "#cleaning the data of whitespace\n",
        "raw_core[\"ProductID\"] = raw_core[\"ProductID\"].str.strip()\n",
        "raw_core[\"SceneID\"] = raw_core[\"SceneID\"].str.strip()\n",
        "\n",
        "#removing the unused column\n",
        "raw_shirts = pandas.read_csv(\"shirts.csv\").drop('Scene',axis=1)\n",
        "raw_bottoms = pandas.read_csv(\"bottoms.csv\").drop('Scene',axis=1)\n",
        "raw_shoes = pandas.read_csv(\"shoes-only.csv\").drop('Scene',axis=1)"
      ],
      "metadata": {
        "id": "up6vmTqeHmAY"
      },
      "execution_count": 40,
      "outputs": []
    },
    {
      "cell_type": "code",
      "source": [
        "#adding dummy rating for sorting\n",
        "raw_core[\"Rating\"] = 1"
      ],
      "metadata": {
        "id": "IVD2ea3jHvQa"
      },
      "execution_count": 41,
      "outputs": []
    },
    {
      "cell_type": "markdown",
      "source": [
        "## Adding bandits\n",
        "need to add random zero values to prevent the matrix from just zeroing out."
      ],
      "metadata": {
        "id": "3l7NpLLd5Bd0"
      }
    },
    {
      "cell_type": "code",
      "source": [
        "# query\n",
        "obfuscation_percentage = 0.10\n",
        "obfuscation_cycles = 1\n",
        "\n",
        "# need to define a function that will add \n",
        "def obfuscate(sample_frame, percentage, cycles):\n",
        "  for i in range(0, cycles):\n",
        "    #np arrays\n",
        "    unique_products = sample_frame[\"ProductID\"].unique()\n",
        "    unique_scenes = raw_core[\"SceneID\"].unique()\n",
        "\n",
        "    #panda dataframes\n",
        "    df_uproducts = pandas.DataFrame(unique_products)\n",
        "    df_uscenes = pandas.DataFrame(unique_scenes)\n",
        "\n",
        "    #getting only a subset of the dataframes to work with\n",
        "    product_subset = df_uproducts.sample(frac = obfuscation_percentage)\n",
        "\n",
        "    #print(product_subset)\n",
        "    for item in product_subset[0]:\n",
        "      #getting a random scene as a DF\n",
        "      random_scene_df = df_uscenes.sample()\n",
        "\n",
        "      # converting to string\n",
        "      random_scene = random_scene_df.iloc[0][0]\n",
        "\n",
        "      #Getting the list from the dictionary to check against\n",
        "      buffer_scenes = scene_list[item]\n",
        "\n",
        "      #Check if item is there, if add it\n",
        "      if random_scene in buffer_scenes:\n",
        "        #this case is only if the item exist as a pair already\n",
        "        print(\"Collision PID:\" + item + \": SID:\" + random_scene + \":\")\n",
        "\n",
        "      else:\n",
        "        #print(\"before update \" + str(scene_list[item]))\n",
        "        #add scene to dictionary\n",
        "        scene_list[item].append(random_scene.strip())\n",
        "\n",
        "        #print(\"after update \" + str(scene_list[item]))\n",
        "        #add scene to dataframe as zero\n",
        "        raw_core.loc[len(raw_core.index)] = [item, random_scene, 0]"
      ],
      "metadata": {
        "id": "pDOFU4KNVsej"
      },
      "execution_count": 42,
      "outputs": []
    },
    {
      "cell_type": "code",
      "source": [
        "clothing_pd_array = [raw_shirts, raw_bottoms, raw_shoes]\n",
        "\n",
        "for array in clothing_pd_array:\n",
        "  obfuscate(array, obfuscation_percentage, obfuscation_cycles)"
      ],
      "metadata": {
        "colab": {
          "base_uri": "https://localhost:8080/"
        },
        "id": "Matfhub095qK",
        "outputId": "588df0e9-f14e-46f7-b969-f278f37f3071"
      },
      "execution_count": 43,
      "outputs": [
        {
          "output_type": "stream",
          "name": "stdout",
          "text": [
            "Collision PID:88d76bd43ccf1d26d2f29c4c91396bee: SID:cee45144edcdedd83918e119cf01b811:\n"
          ]
        }
      ]
    },
    {
      "cell_type": "markdown",
      "source": [
        "##Testing code do NOT run"
      ],
      "metadata": {
        "id": "iYq5dw8A9rzy"
      }
    },
    {
      "cell_type": "code",
      "source": [
        "#sratch for testing delete afterwards!\n",
        "obfuscation_percentage = 10\n",
        "\n",
        "#create a list of unique items\n",
        "## this will become a numpys array\n",
        "unique_products = raw_shirts[\"ProductID\"].unique()\n",
        "unique_scenes = raw_core[\"SceneID\"].unique()\n",
        "\n",
        "df_uproducts = pandas.DataFrame(unique_products)\n",
        "df_uscenes = pandas.DataFrame(unique_scenes)\n",
        "\n",
        "#getting a sublist of products\n",
        "item_df = df_uproducts.sample()\n",
        "\n",
        "\n",
        "random_scene_df = df_uscenes.sample()\n",
        "#should have cdab9160072dd1800038227960ff6467 14f59334af4539132981b1324a731067 \n",
        "# e7d32df9f45b691afc580808750f73ca c0be585ed21b1a6c6dc9559ebe007ede fa5292c6c728810f6bfee095a3824dbd f0066146566567f146da71ff8ec650c9 983a5160b1ba3ff7dbde7e636e4c4601 \n",
        "\n",
        "# need to use to convert \n",
        "item = item_df.iloc[0][0]\n",
        "random_scene = random_scene_df.iloc[0][0]\n",
        "\n",
        "#item to test (TESTING ONLY)\n",
        "item = \"0027e30879ce3d87f82f699f148bff7e\"\n",
        "random_scene = \"e7d32df9f45b691afc580008750f73ca\"\n",
        "\n",
        "print(\"productID =\" + str(item) + \": Scene =\" + str(random_scene)+\":\")"
      ],
      "metadata": {
        "id": "IcPyZ6wuiSsU",
        "outputId": "5ebd3c72-4278-4023-c8f5-e34c73d2a81e",
        "colab": {
          "base_uri": "https://localhost:8080/"
        }
      },
      "execution_count": 27,
      "outputs": [
        {
          "output_type": "stream",
          "name": "stdout",
          "text": [
            "productID =0027e30879ce3d87f82f699f148bff7e: Scene =e7d32df9f45b691afc580008750f73ca:\n"
          ]
        }
      ]
    },
    {
      "cell_type": "code",
      "source": [
        "buffer_scenes = scene_list[item]\n",
        "print(buffer_scenes)\n",
        "\n",
        "print(\"Current DataFrame is\")\n",
        "print(raw_core[\"ProductID\"].str.contains(item, na = False))\n",
        "print(\"\\n\")\n",
        "\n",
        "if random_scene in buffer_scenes:\n",
        "  # get a new scene\n",
        "  print(\"buffer found\")\n",
        "else:\n",
        "  print(\"before update \" + str(scene_list[item]))\n",
        "  #add scene to dictionary\n",
        "  scene_list[item].append(random_scene.strip())\n",
        "\n",
        "  print(\"after update \" + str(scene_list[item]))\n",
        "  #add scene to dataframe as zero\n",
        "  raw_core.loc[len(raw_core.index)] = [item, random_scene, 0]\n",
        "\n",
        "print(\"After DataFrame is\")\n",
        "print(raw_core[\"ProductID\"].str.contains(item, na = False))\n",
        "print(\"\\n\")\n"
      ],
      "metadata": {
        "id": "W1o7yhFZn-TA",
        "outputId": "3c33ae91-2b97-4dc1-8a77-0b3d9c3d1e81",
        "colab": {
          "base_uri": "https://localhost:8080/"
        }
      },
      "execution_count": 29,
      "outputs": [
        {
          "output_type": "stream",
          "name": "stdout",
          "text": [
            "['cdab9160072dd1800038227960ff6467', '14f59334af4539132981b1324a731067', 'e7d32df9f45b691afc580808750f73ca', 'c0be585ed21b1a6c6dc9559ebe007ede', 'fa5292c6c728810f6bfee095a3824dbd', 'f0066146566567f146da71ff8ec650c9', '983a5160b1ba3ff7dbde7e636e4c4601', 'e7d32df9f45b691afc580008750f73ca']\n",
            "Current DataFrame is\n",
            "0         True\n",
            "1         True\n",
            "2         True\n",
            "3         True\n",
            "4        False\n",
            "         ...  \n",
            "72194    False\n",
            "72195    False\n",
            "72196    False\n",
            "72197    False\n",
            "72198     True\n",
            "Name: ProductID, Length: 72199, dtype: bool\n",
            "\n",
            "\n",
            "buffer found\n",
            "After DataFrame is\n",
            "0         True\n",
            "1         True\n",
            "2         True\n",
            "3         True\n",
            "4        False\n",
            "         ...  \n",
            "72194    False\n",
            "72195    False\n",
            "72196    False\n",
            "72197    False\n",
            "72198     True\n",
            "Name: ProductID, Length: 72199, dtype: bool\n",
            "\n",
            "\n"
          ]
        }
      ]
    },
    {
      "cell_type": "markdown",
      "source": [
        "## Loading the subsets into memory"
      ],
      "metadata": {
        "id": "8VV9L1rLchTs"
      }
    },
    {
      "cell_type": "code",
      "source": [
        "shirts_only = raw_core[raw_core['ProductID'].isin(raw_shirts['ProductID'])]\n",
        "bottoms_only = raw_core[raw_core['ProductID'].isin(raw_bottoms['ProductID'])]\n",
        "shoes_only = raw_core[raw_core['ProductID'].isin(raw_shoes['ProductID'])]\n",
        "\n",
        "reader = Reader(rating_scale=(0,1))\n",
        "\n",
        "full_shirts = Dataset.load_from_df(shirts_only,reader)\n",
        "full_bottoms = Dataset.load_from_df(bottoms_only,reader)\n",
        "full_shoes = Dataset.load_from_df(shoes_only,reader)"
      ],
      "metadata": {
        "id": "0N5Kgost5BMM"
      },
      "execution_count": 44,
      "outputs": []
    },
    {
      "cell_type": "markdown",
      "source": [
        "## Hyper parameter searches, prototyping do not using."
      ],
      "metadata": {
        "id": "lIhjYDRAOzA3"
      }
    },
    {
      "cell_type": "code",
      "source": [
        "#Param for grid search\n",
        "param_grid ={'n_factors': [2,5,10,20,50,100],\n",
        "             'reg_all': [0.02,0.05,0.1],\n",
        "             'n_epochs': [10,20,50]}\n",
        "\n",
        "reader = Reader(rating_scale=(0,1))"
      ],
      "metadata": {
        "id": "MXniQW02PjIu"
      },
      "execution_count": null,
      "outputs": []
    },
    {
      "cell_type": "code",
      "source": [
        "#note The dataframe containing the ratings. It must have three columns, corresponding to the user (raw) ids, the item (raw) ids, and the ratings, in this order.\n",
        "shirt_sample = shirts_only.sample(frac=0.1)\n",
        "\n",
        "full_shirt = Dataset.load_from_df(shirts_only,reader)\n",
        "sample_shirt = Dataset.load_from_df(shirt_sample,reader)"
      ],
      "metadata": {
        "id": "vNK-SHfCMdVH"
      },
      "execution_count": null,
      "outputs": []
    },
    {
      "cell_type": "code",
      "source": [
        "gs = GridSearchCV(surprise.SVD, param_grid,measures=['rmse','mae'],cv=5,n_jobs=-1, joblib_verbose=2)"
      ],
      "metadata": {
        "id": "mZkdYq9AQXBX"
      },
      "execution_count": null,
      "outputs": []
    },
    {
      "cell_type": "code",
      "source": [
        "gs.fit(sample_shirt)"
      ],
      "metadata": {
        "colab": {
          "base_uri": "https://localhost:8080/"
        },
        "id": "BCgh6O3YQdk8",
        "outputId": "e7756c6a-a110-4c38-d8c2-f1f59a925d7f"
      },
      "execution_count": null,
      "outputs": [
        {
          "output_type": "stream",
          "name": "stderr",
          "text": [
            "[Parallel(n_jobs=-1)]: Using backend LokyBackend with 2 concurrent workers.\n",
            "[Parallel(n_jobs=-1)]: Done  37 tasks      | elapsed:    3.0s\n",
            "[Parallel(n_jobs=-1)]: Done 267 out of 270 | elapsed:   21.3s remaining:    0.2s\n",
            "[Parallel(n_jobs=-1)]: Done 270 out of 270 | elapsed:   21.4s finished\n"
          ]
        }
      ]
    },
    {
      "cell_type": "code",
      "source": [
        "print(gs.best_score['rmse'])\n",
        "print(gs.best_params['rmse'])\n",
        "print(gs.best_params['rmse'])"
      ],
      "metadata": {
        "id": "UmCnclkpQoTt",
        "outputId": "d4efad51-3709-4f68-d56e-14d54c0816f2",
        "colab": {
          "base_uri": "https://localhost:8080/"
        }
      },
      "execution_count": null,
      "outputs": [
        {
          "output_type": "stream",
          "name": "stdout",
          "text": [
            "0.0009149596462545342\n",
            "{'n_factors': 2, 'reg_all': 0.02, 'n_epochs': 10}\n",
            "{'n_factors': 2, 'reg_all': 0.02, 'n_epochs': 10}\n"
          ]
        }
      ]
    },
    {
      "cell_type": "code",
      "source": [],
      "metadata": {
        "id": "ubvrEEL4cbRK"
      },
      "execution_count": null,
      "outputs": []
    },
    {
      "cell_type": "markdown",
      "source": [
        "## HyperParameter Tuner Functions"
      ],
      "metadata": {
        "id": "8FVX_AZx2Gnm"
      }
    },
    {
      "cell_type": "code",
      "source": [
        "#defaults parameters\n",
        "hyperDefaults = {'n_factors': 2, 'reg_all': 0.02, 'n_epochs': 10}"
      ],
      "metadata": {
        "id": "3ZcdE_ylmFqv"
      },
      "execution_count": null,
      "outputs": []
    },
    {
      "cell_type": "code",
      "source": [
        "#Param for grid search\n",
        "param_grid ={'n_factors': [2,5,10,20,50,100],\n",
        "             'reg_all': [0.02,0.05,0.1],\n",
        "             'n_epochs': [10,20,50]}"
      ],
      "metadata": {
        "id": "5C0xXL2d95JB"
      },
      "execution_count": null,
      "outputs": []
    },
    {
      "cell_type": "code",
      "source": [
        "def hyperSearcher(clothing_dataset):\n",
        "  clothing_sample_ds = clothing_datset.sample(frac=0.1)\n",
        "\n",
        "  clothing_sample = sample_shirt = Dataset.load_from_df(clothing_sample_ds,reader)\n",
        "\n",
        "  gs = GridSearchCV(surprise.SVD, param_grid,measures=['rmse','mae'],cv=5,n_jobs=-1, joblib_verbose=2)\n",
        "  gs.fit(clothing_sample)\n",
        "\n",
        "  print(gs.best_score['rmse'])\n",
        "  print(gs.best_params['rmse'])\n",
        "\n",
        "  return gs.best_params['rmse']"
      ],
      "metadata": {
        "id": "A3WCgnBn2Kzm"
      },
      "execution_count": null,
      "outputs": []
    },
    {
      "cell_type": "markdown",
      "source": [
        "## Training and Predicting the models\n"
      ],
      "metadata": {
        "id": "TcYRo3Q10vvS"
      }
    },
    {
      "cell_type": "code",
      "source": [
        "#training the shirt model\n",
        "shirts_model = surprise.SVD(n_factors=2,reg_all=0.05, n_epochs=10)\n",
        "shirts_suprirse_data = full_shirts.build_full_trainset()\n",
        "shirts_model.fit(shirts_suprirse_data)\n",
        "\n",
        "bottoms_model = surprise.SVD(n_factors=2,reg_all=0.05, n_epochs=10)\n",
        "bottoms_suprirse_data = full_bottoms.build_full_trainset()\n",
        "bottoms_model.fit(bottoms_suprirse_data)\n",
        "\n",
        "shoes_model = surprise.SVD(n_factors=2,reg_all=0.05, n_epochs=10)\n",
        "shoes_suprirse_data = full_shoes.build_full_trainset()\n",
        "shoes_model.fit(shoes_suprirse_data)"
      ],
      "metadata": {
        "colab": {
          "base_uri": "https://localhost:8080/"
        },
        "id": "vKUzp_adQzJs",
        "outputId": "1b86be6c-17fe-4d98-f3b7-af30bb9af32c"
      },
      "execution_count": 45,
      "outputs": [
        {
          "output_type": "execute_result",
          "data": {
            "text/plain": [
              "<surprise.prediction_algorithms.matrix_factorization.SVD at 0x7f2ac33c9590>"
            ]
          },
          "metadata": {},
          "execution_count": 45
        }
      ]
    },
    {
      "cell_type": "markdown",
      "source": [
        "This function is to return the first x items that have a perfect hit for matches.\n",
        "\n"
      ],
      "metadata": {
        "id": "00NYkx74y50k"
      }
    },
    {
      "cell_type": "code",
      "source": [
        "def first_hit_list(algo, length, ):\n",
        "\n",
        "  #prereq getting a unique productIDs\n",
        "  unique_products = raw_core[\"ProductID\"].unique()\n",
        "\n",
        "  #getting the source item list of scenes\n",
        "  list_of_scenes = master_scene_list[source_item]\n",
        "\n",
        "  #buffer to hold the output values\n",
        "  output_dataframe = pandas.DataFrame(columns = ['ProductID', 'r_value'])\n",
        "\n",
        "  for scene in list_of_scenes:\n",
        "    for product in unique_products:\n",
        "      if product != source_item:\n",
        "        output = algo.predict(product, scene)\n",
        "\n",
        "        output_dataframe = output_dataframe.append({'ProductID' : output[0], 'r_value': output[3]}, ignore_index = True)\n",
        "\n",
        "  output_dataframe = output_dataframe.sort_values(by='r_value', ascending=False)\n",
        "  top_ten_df = output_dataframe.head(10)\n",
        "\n",
        "  return top_ten_df['ProductID'].tolist()"
      ],
      "metadata": {
        "id": "MNu3P9TdSOdX"
      },
      "execution_count": 58,
      "outputs": []
    },
    {
      "cell_type": "code",
      "source": [
        "shirt_top_ten = first_hit_list(shirts_model, 10)\n",
        "bottom_top_ten = first_hit_list(bottoms_model,10)\n",
        "shoes_top_ten = first_hit_list(shoes_model,10)"
      ],
      "metadata": {
        "id": "Rfv8WqVHzsa0"
      },
      "execution_count": 59,
      "outputs": []
    },
    {
      "cell_type": "markdown",
      "source": [
        "## Results"
      ],
      "metadata": {
        "id": "o1sgISCj_5Eb"
      }
    },
    {
      "cell_type": "code",
      "source": [
        "print(\"Recommended shirts\" + str(shirt_top_ten))\n",
        "print(\"Recommended Bottoms\" + str(bottom_top_ten))\n",
        "print(\"Recommended Shotes\" + str(shoes_top_ten))"
      ],
      "metadata": {
        "colab": {
          "base_uri": "https://localhost:8080/"
        },
        "id": "gDY88XioBYAG",
        "outputId": "c5fdaa27-58a6-4cfa-ffe1-7f40230f750f"
      },
      "execution_count": 60,
      "outputs": [
        {
          "output_type": "stream",
          "name": "stdout",
          "text": [
            "Recommended shirts['6d7c884b123c3bc73159236efa5e0fd6', '81670d6c00b6a43f05c287bbde5aa867', '8c9342e5ccd72353dd607d80cb78e63f', 'e251be60024247981999ba5a38b53894', 'e7c43541470d3701877004d5b4f61f1f', 'c39ddd5567e58aba0538b6008c71d614', '86ac6af55fa93bd0212d431af8c2a8c1', 'a59ccc8a80a07f20e88ebfbc0f613b16', 'cdff384f701a023e3d8824d1d7c44e5f', '42ded1188980f834f969c16f166ae561']\n",
            "Recommended Bottoms['24c393d19ea2711e7325596b9f131efa', '2be0e67f129c0699a109b2a9b1f25465', '6f7ca682f2bc192915c5d823ac4aa2bb', '4882e8f87d2c69c8473dc5230e6fb631', 'f5fa453c791f4836e6b6bb602ab03b1c', '115fc198be0000834f95aeabdd1dc989', '8b5832a1c4ed3ad342ab572693123be2', '63dcaf508898edc7316fa46ed9107765', '5faeb2038483b83e989a57b8c6c01198', 'c32ba4fe9f4854eca7310131c78bfaf6']\n",
            "Recommended Shotes['f4f0b457ddc25adbe25a5f0cc659536f', '821b7a91ed609ddace7917daed2cc199', 'ae13233b0ed409149239a49798b292f4', '7ff253d3cb0ea118d604b995fe01edbf', 'e2248d94efadd04132a4ee66a9f32c4c', '262be35a82e6af56a95d68cb388485ee', '1e93a579c5e00c06d20af5946cb2e1ca', '8421067f4b4a3a48fcd6e3a035cb8627', '9a93f8b66cc6766d00fb865a39ee18fe', 'fb221ec90171cba5a4bbfb7a901ebce9']\n"
          ]
        }
      ]
    }
  ]
}