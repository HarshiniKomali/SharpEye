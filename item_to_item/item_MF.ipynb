{
  "nbformat": 4,
  "nbformat_minor": 0,
  "metadata": {
    "colab": {
      "provenance": [],
      "authorship_tag": "ABX9TyNMrZzTlRUpWZvLH3h3PG2F",
      "include_colab_link": true
    },
    "kernelspec": {
      "name": "python3",
      "display_name": "Python 3"
    },
    "language_info": {
      "name": "python"
    },
    "gpuClass": "standard"
  },
  "cells": [
    {
      "cell_type": "markdown",
      "metadata": {
        "id": "view-in-github",
        "colab_type": "text"
      },
      "source": [
        "<a href=\"https://colab.research.google.com/github/HarshiniKomali/SharpEye/blob/main/item_to_item/item_MF.ipynb\" target=\"_parent\"><img src=\"https://colab.research.google.com/assets/colab-badge.svg\" alt=\"Open In Colab\"/></a>"
      ]
    },
    {
      "cell_type": "markdown",
      "source": [
        "# Item to Item MF for outfit recommendation\n",
        "The workflow will be as follows\n",
        "1. Convert all items into a scene.\n",
        "2. Pass the scene into a MF factorization that is inverted to output an item\n",
        "3. return top 10 items"
      ],
      "metadata": {
        "id": "qwMaJqi_F9eb"
      }
    },
    {
      "cell_type": "markdown",
      "source": [
        "## Update the item to recommend"
      ],
      "metadata": {
        "id": "vrOgEeclC5l6"
      }
    },
    {
      "cell_type": "code",
      "source": [
        "#test shirt = d4ad28d585788409ab2774b3780b6ce9\n",
        "source_item = \"d4ad28d585788409ab2774b3780b6ce9\"\n"
      ],
      "metadata": {
        "id": "--v1HSHBC5Xm"
      },
      "execution_count": 1,
      "outputs": []
    },
    {
      "cell_type": "markdown",
      "source": [
        "## Prerequisite\n",
        "This is to create the dictionary that will convert a item into a scene"
      ],
      "metadata": {
        "id": "ks6C0UYrGm8O"
      }
    },
    {
      "cell_type": "code",
      "source": [
        "!pip install surprise"
      ],
      "metadata": {
        "colab": {
          "base_uri": "https://localhost:8080/"
        },
        "id": "fUOCuYZ1HNlE",
        "outputId": "07b1faf7-531e-481a-aa34-4e6e764ae95c"
      },
      "execution_count": 2,
      "outputs": [
        {
          "output_type": "stream",
          "name": "stdout",
          "text": [
            "Looking in indexes: https://pypi.org/simple, https://us-python.pkg.dev/colab-wheels/public/simple/\n",
            "Collecting surprise\n",
            "  Downloading surprise-0.1-py2.py3-none-any.whl (1.8 kB)\n",
            "Collecting scikit-surprise\n",
            "  Downloading scikit-surprise-1.1.1.tar.gz (11.8 MB)\n",
            "\u001b[K     |████████████████████████████████| 11.8 MB 5.2 MB/s \n",
            "\u001b[?25hRequirement already satisfied: joblib>=0.11 in /usr/local/lib/python3.7/dist-packages (from scikit-surprise->surprise) (1.2.0)\n",
            "Requirement already satisfied: numpy>=1.11.2 in /usr/local/lib/python3.7/dist-packages (from scikit-surprise->surprise) (1.21.6)\n",
            "Requirement already satisfied: scipy>=1.0.0 in /usr/local/lib/python3.7/dist-packages (from scikit-surprise->surprise) (1.7.3)\n",
            "Requirement already satisfied: six>=1.10.0 in /usr/local/lib/python3.7/dist-packages (from scikit-surprise->surprise) (1.15.0)\n",
            "Building wheels for collected packages: scikit-surprise\n",
            "  Building wheel for scikit-surprise (setup.py) ... \u001b[?25l\u001b[?25hdone\n",
            "  Created wheel for scikit-surprise: filename=scikit_surprise-1.1.1-cp37-cp37m-linux_x86_64.whl size=1633995 sha256=3144186ffb698f6413628910d1981ab7d09599f32fa5c7b885552d6b3adf0905\n",
            "  Stored in directory: /root/.cache/pip/wheels/76/44/74/b498c42be47b2406bd27994e16c5188e337c657025ab400c1c\n",
            "Successfully built scikit-surprise\n",
            "Installing collected packages: scikit-surprise, surprise\n",
            "Successfully installed scikit-surprise-1.1.1 surprise-0.1\n"
          ]
        }
      ]
    },
    {
      "cell_type": "code",
      "source": [
        "#function to convert ID to URL (stolen from data source)\n",
        "def convert_to_url(signature):\n",
        "    prefix = 'http://i.pinimg.com/400x/%s/%s/%s/%s.jpg'\n",
        "    return prefix % (signature[0:2], signature[2:4], signature[4:6], signature)"
      ],
      "metadata": {
        "id": "uCT97irYW2gF"
      },
      "execution_count": 3,
      "outputs": []
    },
    {
      "cell_type": "code",
      "source": [
        "import csv\n",
        "import copy\n",
        "\n",
        "with open('fashion.csv', 'r') as f:\n",
        "    \n",
        "    csv_reader = csv.DictReader(f)\n",
        "    list_of_items = list(csv_reader)\n",
        "\n",
        "scene_list = {}\n",
        "\n",
        "for item in list_of_items:\n",
        "    productID = item.get('ProductID') \n",
        "    \n",
        "    #if the product key exist\n",
        "    if productID in scene_list:\n",
        "        buffer = scene_list[productID]\n",
        "        buffer.append(item.get('SceneID').strip())\n",
        "\n",
        "    #if the product key is missing\n",
        "    else:\n",
        "        scene_list[productID] = [item.get('SceneID').strip()]\n",
        "\n",
        "master_scene_list = copy.deepcopy(scene_list)\n"
      ],
      "metadata": {
        "id": "u0ki4dF0Gt97"
      },
      "execution_count": 4,
      "outputs": []
    },
    {
      "cell_type": "code",
      "source": [
        "#this is for the items dictionary\n",
        "import csv\n",
        "with open('working_category.csv', mode='r', encoding='utf-8-sig') as f:\n",
        "    \n",
        "    category_reader = csv.DictReader(f)\n",
        "    category_of_items = list(category_reader)\n",
        "\n",
        "category_list = {}\n",
        "\n",
        "for item in category_of_items:\n",
        "    category = item.get('Scene') \n",
        "    \n",
        "    #if the product key exist\n",
        "    if category in category_list:\n",
        "        buffer = category_list[category]\n",
        "        buffer.append(item.get('ProductID').strip())\n",
        "\n",
        "    #if the product key is missing\n",
        "    else:\n",
        "        category_list[category] = [item.get('ProductID').strip()]"
      ],
      "metadata": {
        "id": "T0njY_NYzdFs"
      },
      "execution_count": 5,
      "outputs": []
    },
    {
      "cell_type": "code",
      "source": [
        "#to create a translation table for item to item type\n",
        "item_to_category_dictionary = {}\n",
        "for row in category_of_items:\n",
        "  item_to_category_dictionary[row[\"ProductID\"]] = row['Scene']"
      ],
      "metadata": {
        "id": "KzQzhpmd6tK4"
      },
      "execution_count": 6,
      "outputs": []
    },
    {
      "cell_type": "code",
      "source": [
        "import pandas\n",
        "import surprise\n",
        "from surprise import Dataset, Reader\n",
        "from surprise.model_selection import cross_validate, GridSearchCV\n",
        "from tables.tests import test_suite\n",
        "from collections import defaultdict\n",
        "\n",
        "import numpy"
      ],
      "metadata": {
        "id": "KNS7khjyHfFz"
      },
      "execution_count": 7,
      "outputs": []
    },
    {
      "cell_type": "markdown",
      "source": [
        "## Loading the dataset into memory"
      ],
      "metadata": {
        "id": "p-xe01ipHOAL"
      }
    },
    {
      "cell_type": "code",
      "source": [
        "#import the data\n",
        "raw_core = pandas.read_csv('fashion.csv')\n",
        "\n",
        "#cleaning the data of whitespace\n",
        "raw_core[\"ProductID\"] = raw_core[\"ProductID\"].str.strip()\n",
        "raw_core[\"SceneID\"] = raw_core[\"SceneID\"].str.strip()"
      ],
      "metadata": {
        "id": "up6vmTqeHmAY"
      },
      "execution_count": 8,
      "outputs": []
    },
    {
      "cell_type": "code",
      "source": [
        "#adding dummy rating for sorting\n",
        "raw_core[\"Rating\"] = 1"
      ],
      "metadata": {
        "id": "IVD2ea3jHvQa"
      },
      "execution_count": 9,
      "outputs": []
    },
    {
      "cell_type": "markdown",
      "source": [
        "## Adding Obfuscation Information\n",
        "need to add random zero values to prevent the matrix from just zeroing out."
      ],
      "metadata": {
        "id": "3l7NpLLd5Bd0"
      }
    },
    {
      "cell_type": "code",
      "source": [
        "# query\n",
        "obfuscation_percentage = 0.30\n",
        "obfuscation_cycles = 3\n",
        "\n",
        "# need to define a function that will add \n",
        "def obfuscate(sample_frame, percentage, cycles):\n",
        "  for i in range(0, cycles):\n",
        "    #np arrays\n",
        "    unique_products = sample_frame[\"ProductID\"].unique()\n",
        "    unique_scenes = raw_core[\"SceneID\"].unique()\n",
        "\n",
        "    #panda dataframes\n",
        "    df_uproducts = pandas.DataFrame(unique_products)\n",
        "    df_uscenes = pandas.DataFrame(unique_scenes)\n",
        "\n",
        "    #getting only a subset of the dataframes to work with\n",
        "    product_subset = df_uproducts.sample(frac = obfuscation_percentage)\n",
        "\n",
        "    #print(product_subset)\n",
        "    for item in product_subset[0]:\n",
        "      #getting a random scene as a DF\n",
        "      random_scene_df = df_uscenes.sample()\n",
        "\n",
        "      # converting to string\n",
        "      random_scene = random_scene_df.iloc[0][0]\n",
        "\n",
        "      #Getting the list from the dictionary to check against\n",
        "      buffer_scenes = scene_list[item]\n",
        "\n",
        "      #Check if item is there, if add it\n",
        "      if random_scene in buffer_scenes:\n",
        "        #this case is only if the item exist as a pair already\n",
        "        print(\"Collision PID:\" + item + \": SID:\" + random_scene + \":\")\n",
        "\n",
        "      else:\n",
        "        #print(\"before update \" + str(scene_list[item]))\n",
        "        #add scene to dictionary\n",
        "        scene_list[item].append(random_scene.strip())\n",
        "\n",
        "        #print(\"after update \" + str(scene_list[item]))\n",
        "        #add scene to dataframe as zero\n",
        "        raw_core.loc[len(raw_core.index)] = [item, random_scene, 0]"
      ],
      "metadata": {
        "id": "pDOFU4KNVsej"
      },
      "execution_count": 10,
      "outputs": []
    },
    {
      "cell_type": "code",
      "source": [
        "#this will generate the new array based upon the item name.\n",
        "#1. get the item class\n",
        "item_class = item_to_category_dictionary[source_item]\n",
        "\n",
        "#2. create the dataframe with the sample subset\n",
        "list_of_values = category_list[item_class]\n",
        "subset_df = raw_core[raw_core['ProductID'].isin(list_of_values)]\n",
        "\n",
        "\n",
        "obfuscate(subset_df, obfuscation_percentage, obfuscation_cycles)"
      ],
      "metadata": {
        "id": "Matfhub095qK"
      },
      "execution_count": 11,
      "outputs": []
    },
    {
      "cell_type": "markdown",
      "source": [
        "## Loading the subsets into memory"
      ],
      "metadata": {
        "id": "8VV9L1rLchTs"
      }
    },
    {
      "cell_type": "code",
      "source": [
        "reader = Reader(rating_scale=(0,1))\n",
        "surprise_subset = Dataset.load_from_df(subset_df,reader)"
      ],
      "metadata": {
        "id": "0N5Kgost5BMM"
      },
      "execution_count": 12,
      "outputs": []
    },
    {
      "cell_type": "markdown",
      "source": [
        "## Training and Predicting the models\n"
      ],
      "metadata": {
        "id": "TcYRo3Q10vvS"
      }
    },
    {
      "cell_type": "code",
      "source": [
        "#training the shirt model\n",
        "subset_model = surprise.SVD(n_factors=10,reg_all=0.05, n_epochs=30)\n",
        "suprirse_data = surprise_subset.build_full_trainset()\n",
        "subset_model.fit(suprirse_data)"
      ],
      "metadata": {
        "colab": {
          "base_uri": "https://localhost:8080/"
        },
        "id": "vKUzp_adQzJs",
        "outputId": "63517c3d-ccc7-4730-9653-0f1244c49405"
      },
      "execution_count": 14,
      "outputs": [
        {
          "output_type": "execute_result",
          "data": {
            "text/plain": [
              "<surprise.prediction_algorithms.matrix_factorization.SVD at 0x7f1addc1dd10>"
            ]
          },
          "metadata": {},
          "execution_count": 14
        }
      ]
    },
    {
      "cell_type": "markdown",
      "source": [
        "This function is to return the first x items that have a perfect hit for matches.\n",
        "\n"
      ],
      "metadata": {
        "id": "00NYkx74y50k"
      }
    },
    {
      "cell_type": "code",
      "source": [
        "def first_hit_list(algo, length, ):\n",
        "\n",
        "  #prereq getting a unique productIDs\n",
        "  unique_products = subset_df[\"ProductID\"].unique()\n",
        "\n",
        "  #getting the source item list of scenes\n",
        "  list_of_scenes = master_scene_list[source_item]\n",
        "\n",
        "  #buffer to hold the output values\n",
        "  output_dataframe = pandas.DataFrame(columns = ['ProductID', 'r_value'])\n",
        "\n",
        "  for scene in list_of_scenes:\n",
        "    for product in unique_products:\n",
        "      if product != source_item:\n",
        "        output = algo.predict(product, scene)\n",
        "\n",
        "        output_dataframe = output_dataframe.append({'ProductID' : output[0], 'r_value': output[3]}, ignore_index = True)\n",
        "\n",
        "  output_dataframe = output_dataframe.sort_values(by='r_value', ascending=False)\n",
        "  top_ten_df = output_dataframe.head(10)\n",
        "  print(top_ten_df)\n",
        "\n",
        "  return top_ten_df['ProductID'].tolist()"
      ],
      "metadata": {
        "id": "MNu3P9TdSOdX"
      },
      "execution_count": 15,
      "outputs": []
    },
    {
      "cell_type": "code",
      "source": [
        "top_ten = first_hit_list(subset_model, 10)\n"
      ],
      "metadata": {
        "id": "Rfv8WqVHzsa0",
        "colab": {
          "base_uri": "https://localhost:8080/"
        },
        "outputId": "fb1162aa-56b7-416c-ddb6-2293dbea0c8e"
      },
      "execution_count": 16,
      "outputs": [
        {
          "output_type": "stream",
          "name": "stdout",
          "text": [
            "                             ProductID  r_value\n",
            "5925  2f01a6600295076a0cf7b81e2c6797e1      1.0\n",
            "2896  ffbdff62e62baeb77410a25d3e6ed56a      1.0\n",
            "6759  79340d2048d98e809e0279126cd42b40      1.0\n",
            "2880  bfd4b50c6a8864a828f998394a91e3f8      1.0\n",
            "6757  33a0811b752f4abf19b2c2bc91d23c9d      1.0\n",
            "2883  c6cc34ecc78c88df270b03c0a07074bd      1.0\n",
            "6756  32b91d24ad941175e70cc0999c8369bb      1.0\n",
            "2886  cc93803cf90e3903d14c0b3b39cfd1a8      1.0\n",
            "2887  d4669c61b054328ec87e6a21e79b5954      1.0\n",
            "6135  da04c6dca6c453293602fd6a156bd470      1.0\n"
          ]
        }
      ]
    },
    {
      "cell_type": "markdown",
      "source": [
        "## Results"
      ],
      "metadata": {
        "id": "o1sgISCj_5Eb"
      }
    },
    {
      "cell_type": "code",
      "source": [
        "print(\"orginal item \" + convert_to_url(source_item))\n",
        "\n",
        "for item in top_ten:\n",
        "  print(convert_to_url(item))"
      ],
      "metadata": {
        "colab": {
          "base_uri": "https://localhost:8080/"
        },
        "id": "VX7SK3yEXOVA",
        "outputId": "8d43149a-60e0-401b-ddec-855615cd8630"
      },
      "execution_count": 17,
      "outputs": [
        {
          "output_type": "stream",
          "name": "stdout",
          "text": [
            "orginal item http://i.pinimg.com/400x/d4/ad/28/d4ad28d585788409ab2774b3780b6ce9.jpg\n",
            "http://i.pinimg.com/400x/2f/01/a6/2f01a6600295076a0cf7b81e2c6797e1.jpg\n",
            "http://i.pinimg.com/400x/ff/bd/ff/ffbdff62e62baeb77410a25d3e6ed56a.jpg\n",
            "http://i.pinimg.com/400x/79/34/0d/79340d2048d98e809e0279126cd42b40.jpg\n",
            "http://i.pinimg.com/400x/bf/d4/b5/bfd4b50c6a8864a828f998394a91e3f8.jpg\n",
            "http://i.pinimg.com/400x/33/a0/81/33a0811b752f4abf19b2c2bc91d23c9d.jpg\n",
            "http://i.pinimg.com/400x/c6/cc/34/c6cc34ecc78c88df270b03c0a07074bd.jpg\n",
            "http://i.pinimg.com/400x/32/b9/1d/32b91d24ad941175e70cc0999c8369bb.jpg\n",
            "http://i.pinimg.com/400x/cc/93/80/cc93803cf90e3903d14c0b3b39cfd1a8.jpg\n",
            "http://i.pinimg.com/400x/d4/66/9c/d4669c61b054328ec87e6a21e79b5954.jpg\n",
            "http://i.pinimg.com/400x/da/04/c6/da04c6dca6c453293602fd6a156bd470.jpg\n"
          ]
        }
      ]
    },
    {
      "cell_type": "code",
      "source": [
        "#For random ID to picutre\n",
        "ID_to_convert = 'f1861731387291383b3a1ea65aa2789b'\n",
        "\n",
        "print(convert_to_url(ID_to_convert))"
      ],
      "metadata": {
        "colab": {
          "base_uri": "https://localhost:8080/"
        },
        "id": "TMuLQ37qWsfW",
        "outputId": "47e84eb6-6aee-46c7-ce78-435784e3790f"
      },
      "execution_count": null,
      "outputs": [
        {
          "output_type": "stream",
          "name": "stdout",
          "text": [
            "http://i.pinimg.com/400x/f1/86/17/f1861731387291383b3a1ea65aa2789b.jpg\n"
          ]
        }
      ]
    }
  ]
}